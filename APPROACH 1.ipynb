{
 "cells": [
  {
   "cell_type": "markdown",
   "metadata": {},
   "source": [
    "# The easiest  Approach"
   ]
  },
  {
   "cell_type": "code",
   "execution_count": 1,
   "metadata": {},
   "outputs": [],
   "source": [
    "import pandas as pd \n",
    "import numpy as np"
   ]
  },
  {
   "cell_type": "code",
   "execution_count": 3,
   "metadata": {},
   "outputs": [
    {
     "data": {
      "text/html": [
       "<div>\n",
       "<style scoped>\n",
       "    .dataframe tbody tr th:only-of-type {\n",
       "        vertical-align: middle;\n",
       "    }\n",
       "\n",
       "    .dataframe tbody tr th {\n",
       "        vertical-align: top;\n",
       "    }\n",
       "\n",
       "    .dataframe thead th {\n",
       "        text-align: right;\n",
       "    }\n",
       "</style>\n",
       "<table border=\"1\" class=\"dataframe\">\n",
       "  <thead>\n",
       "    <tr style=\"text-align: right;\">\n",
       "      <th></th>\n",
       "      <th>Age</th>\n",
       "      <th>Attrition</th>\n",
       "      <th>BusinessTravel</th>\n",
       "      <th>Department</th>\n",
       "      <th>DistanceFromHome</th>\n",
       "      <th>Education</th>\n",
       "      <th>EducationField</th>\n",
       "      <th>EmployeeNumber</th>\n",
       "      <th>EnvironmentSatisfaction</th>\n",
       "      <th>Gender</th>\n",
       "      <th>...</th>\n",
       "      <th>PerformanceRating</th>\n",
       "      <th>StockOptionLevel</th>\n",
       "      <th>TotalWorkingYears</th>\n",
       "      <th>TrainingTimesLastYear</th>\n",
       "      <th>YearsAtCompany</th>\n",
       "      <th>YearsInCurrentRole</th>\n",
       "      <th>YearsSinceLastPromotion</th>\n",
       "      <th>YearsWithCurrManager</th>\n",
       "      <th>CommunicationSkill</th>\n",
       "      <th>Behaviour</th>\n",
       "    </tr>\n",
       "    <tr>\n",
       "      <th>Id</th>\n",
       "      <th></th>\n",
       "      <th></th>\n",
       "      <th></th>\n",
       "      <th></th>\n",
       "      <th></th>\n",
       "      <th></th>\n",
       "      <th></th>\n",
       "      <th></th>\n",
       "      <th></th>\n",
       "      <th></th>\n",
       "      <th></th>\n",
       "      <th></th>\n",
       "      <th></th>\n",
       "      <th></th>\n",
       "      <th></th>\n",
       "      <th></th>\n",
       "      <th></th>\n",
       "      <th></th>\n",
       "      <th></th>\n",
       "      <th></th>\n",
       "      <th></th>\n",
       "    </tr>\n",
       "  </thead>\n",
       "  <tbody>\n",
       "    <tr>\n",
       "      <th>1</th>\n",
       "      <td>30</td>\n",
       "      <td>0</td>\n",
       "      <td>Non-Travel</td>\n",
       "      <td>Research &amp; Development</td>\n",
       "      <td>2</td>\n",
       "      <td>3</td>\n",
       "      <td>Medical</td>\n",
       "      <td>571</td>\n",
       "      <td>3</td>\n",
       "      <td>Female</td>\n",
       "      <td>...</td>\n",
       "      <td>3</td>\n",
       "      <td>0</td>\n",
       "      <td>12</td>\n",
       "      <td>2</td>\n",
       "      <td>11</td>\n",
       "      <td>7</td>\n",
       "      <td>6</td>\n",
       "      <td>7</td>\n",
       "      <td>4</td>\n",
       "      <td>1</td>\n",
       "    </tr>\n",
       "    <tr>\n",
       "      <th>2</th>\n",
       "      <td>36</td>\n",
       "      <td>0</td>\n",
       "      <td>Travel_Rarely</td>\n",
       "      <td>Research &amp; Development</td>\n",
       "      <td>12</td>\n",
       "      <td>4</td>\n",
       "      <td>Life Sciences</td>\n",
       "      <td>1614</td>\n",
       "      <td>3</td>\n",
       "      <td>Female</td>\n",
       "      <td>...</td>\n",
       "      <td>3</td>\n",
       "      <td>2</td>\n",
       "      <td>7</td>\n",
       "      <td>2</td>\n",
       "      <td>3</td>\n",
       "      <td>2</td>\n",
       "      <td>1</td>\n",
       "      <td>1</td>\n",
       "      <td>2</td>\n",
       "      <td>1</td>\n",
       "    </tr>\n",
       "    <tr>\n",
       "      <th>3</th>\n",
       "      <td>55</td>\n",
       "      <td>1</td>\n",
       "      <td>Travel_Rarely</td>\n",
       "      <td>Sales</td>\n",
       "      <td>2</td>\n",
       "      <td>1</td>\n",
       "      <td>Medical</td>\n",
       "      <td>842</td>\n",
       "      <td>3</td>\n",
       "      <td>Male</td>\n",
       "      <td>...</td>\n",
       "      <td>3</td>\n",
       "      <td>0</td>\n",
       "      <td>12</td>\n",
       "      <td>3</td>\n",
       "      <td>9</td>\n",
       "      <td>7</td>\n",
       "      <td>7</td>\n",
       "      <td>3</td>\n",
       "      <td>5</td>\n",
       "      <td>1</td>\n",
       "    </tr>\n",
       "    <tr>\n",
       "      <th>4</th>\n",
       "      <td>39</td>\n",
       "      <td>0</td>\n",
       "      <td>Travel_Rarely</td>\n",
       "      <td>Research &amp; Development</td>\n",
       "      <td>24</td>\n",
       "      <td>1</td>\n",
       "      <td>Life Sciences</td>\n",
       "      <td>2014</td>\n",
       "      <td>1</td>\n",
       "      <td>Male</td>\n",
       "      <td>...</td>\n",
       "      <td>3</td>\n",
       "      <td>0</td>\n",
       "      <td>18</td>\n",
       "      <td>2</td>\n",
       "      <td>7</td>\n",
       "      <td>7</td>\n",
       "      <td>1</td>\n",
       "      <td>7</td>\n",
       "      <td>4</td>\n",
       "      <td>1</td>\n",
       "    </tr>\n",
       "    <tr>\n",
       "      <th>5</th>\n",
       "      <td>37</td>\n",
       "      <td>0</td>\n",
       "      <td>Travel_Rarely</td>\n",
       "      <td>Research &amp; Development</td>\n",
       "      <td>3</td>\n",
       "      <td>3</td>\n",
       "      <td>Other</td>\n",
       "      <td>689</td>\n",
       "      <td>3</td>\n",
       "      <td>Male</td>\n",
       "      <td>...</td>\n",
       "      <td>3</td>\n",
       "      <td>1</td>\n",
       "      <td>10</td>\n",
       "      <td>2</td>\n",
       "      <td>10</td>\n",
       "      <td>7</td>\n",
       "      <td>7</td>\n",
       "      <td>8</td>\n",
       "      <td>1</td>\n",
       "      <td>1</td>\n",
       "    </tr>\n",
       "  </tbody>\n",
       "</table>\n",
       "<p>5 rows × 28 columns</p>\n",
       "</div>"
      ],
      "text/plain": [
       "    Age  Attrition BusinessTravel              Department  DistanceFromHome  \\\n",
       "Id                                                                            \n",
       "1    30          0     Non-Travel  Research & Development                 2   \n",
       "2    36          0  Travel_Rarely  Research & Development                12   \n",
       "3    55          1  Travel_Rarely                   Sales                 2   \n",
       "4    39          0  Travel_Rarely  Research & Development                24   \n",
       "5    37          0  Travel_Rarely  Research & Development                 3   \n",
       "\n",
       "    Education EducationField  EmployeeNumber  EnvironmentSatisfaction  Gender  \\\n",
       "Id                                                                              \n",
       "1           3        Medical             571                        3  Female   \n",
       "2           4  Life Sciences            1614                        3  Female   \n",
       "3           1        Medical             842                        3    Male   \n",
       "4           1  Life Sciences            2014                        1    Male   \n",
       "5           3          Other             689                        3    Male   \n",
       "\n",
       "    ...  PerformanceRating StockOptionLevel  TotalWorkingYears  \\\n",
       "Id  ...                                                          \n",
       "1   ...                  3                0                 12   \n",
       "2   ...                  3                2                  7   \n",
       "3   ...                  3                0                 12   \n",
       "4   ...                  3                0                 18   \n",
       "5   ...                  3                1                 10   \n",
       "\n",
       "   TrainingTimesLastYear  YearsAtCompany  YearsInCurrentRole  \\\n",
       "Id                                                             \n",
       "1                      2              11                   7   \n",
       "2                      2               3                   2   \n",
       "3                      3               9                   7   \n",
       "4                      2               7                   7   \n",
       "5                      2              10                   7   \n",
       "\n",
       "   YearsSinceLastPromotion  YearsWithCurrManager  CommunicationSkill  \\\n",
       "Id                                                                     \n",
       "1                        6                     7                   4   \n",
       "2                        1                     1                   2   \n",
       "3                        7                     3                   5   \n",
       "4                        1                     7                   4   \n",
       "5                        7                     8                   1   \n",
       "\n",
       "    Behaviour  \n",
       "Id             \n",
       "1           1  \n",
       "2           1  \n",
       "3           1  \n",
       "4           1  \n",
       "5           1  \n",
       "\n",
       "[5 rows x 28 columns]"
      ]
     },
     "execution_count": 3,
     "metadata": {},
     "output_type": "execute_result"
    }
   ],
   "source": [
    "train = pd.read_csv(\"train.csv\",index_col=\"Id\")\n",
    "test = pd.read_csv(\"test.csv\",index_col=\"Id\")\n",
    "train.head()"
   ]
  },
  {
   "cell_type": "code",
   "execution_count": 4,
   "metadata": {},
   "outputs": [
    {
     "name": "stdout",
     "output_type": "stream",
     "text": [
      "<class 'pandas.core.frame.DataFrame'>\n",
      "Int64Index: 1628 entries, 1 to 1628\n",
      "Data columns (total 28 columns):\n",
      " #   Column                   Non-Null Count  Dtype \n",
      "---  ------                   --------------  ----- \n",
      " 0   Age                      1628 non-null   int64 \n",
      " 1   Attrition                1628 non-null   int64 \n",
      " 2   BusinessTravel           1628 non-null   object\n",
      " 3   Department               1628 non-null   object\n",
      " 4   DistanceFromHome         1628 non-null   int64 \n",
      " 5   Education                1628 non-null   int64 \n",
      " 6   EducationField           1628 non-null   object\n",
      " 7   EmployeeNumber           1628 non-null   int64 \n",
      " 8   EnvironmentSatisfaction  1628 non-null   int64 \n",
      " 9   Gender                   1628 non-null   object\n",
      " 10  JobInvolvement           1628 non-null   int64 \n",
      " 11  JobRole                  1628 non-null   object\n",
      " 12  JobSatisfaction          1628 non-null   int64 \n",
      " 13  MaritalStatus            1628 non-null   object\n",
      " 14  MonthlyIncome            1628 non-null   int64 \n",
      " 15  NumCompaniesWorked       1628 non-null   int64 \n",
      " 16  OverTime                 1628 non-null   object\n",
      " 17  PercentSalaryHike        1628 non-null   int64 \n",
      " 18  PerformanceRating        1628 non-null   int64 \n",
      " 19  StockOptionLevel         1628 non-null   int64 \n",
      " 20  TotalWorkingYears        1628 non-null   int64 \n",
      " 21  TrainingTimesLastYear    1628 non-null   int64 \n",
      " 22  YearsAtCompany           1628 non-null   int64 \n",
      " 23  YearsInCurrentRole       1628 non-null   int64 \n",
      " 24  YearsSinceLastPromotion  1628 non-null   int64 \n",
      " 25  YearsWithCurrManager     1628 non-null   int64 \n",
      " 26  CommunicationSkill       1628 non-null   int64 \n",
      " 27  Behaviour                1628 non-null   int64 \n",
      "dtypes: int64(21), object(7)\n",
      "memory usage: 368.8+ KB\n"
     ]
    }
   ],
   "source": [
    "train.info()"
   ]
  },
  {
   "cell_type": "code",
   "execution_count": 5,
   "metadata": {},
   "outputs": [
    {
     "name": "stdout",
     "output_type": "stream",
     "text": [
      "<class 'pandas.core.frame.DataFrame'>\n",
      "Int64Index: 1628 entries, 1 to 1628\n",
      "Data columns (total 28 columns):\n",
      " #   Column                   Non-Null Count  Dtype\n",
      "---  ------                   --------------  -----\n",
      " 0   Age                      1628 non-null   int64\n",
      " 1   Attrition                1628 non-null   int64\n",
      " 2   BusinessTravel           1628 non-null   int32\n",
      " 3   Department               1628 non-null   int32\n",
      " 4   DistanceFromHome         1628 non-null   int64\n",
      " 5   Education                1628 non-null   int64\n",
      " 6   EducationField           1628 non-null   int32\n",
      " 7   EmployeeNumber           1628 non-null   int64\n",
      " 8   EnvironmentSatisfaction  1628 non-null   int64\n",
      " 9   Gender                   1628 non-null   int32\n",
      " 10  JobInvolvement           1628 non-null   int64\n",
      " 11  JobRole                  1628 non-null   int32\n",
      " 12  JobSatisfaction          1628 non-null   int64\n",
      " 13  MaritalStatus            1628 non-null   int32\n",
      " 14  MonthlyIncome            1628 non-null   int64\n",
      " 15  NumCompaniesWorked       1628 non-null   int64\n",
      " 16  OverTime                 1628 non-null   int32\n",
      " 17  PercentSalaryHike        1628 non-null   int64\n",
      " 18  PerformanceRating        1628 non-null   int64\n",
      " 19  StockOptionLevel         1628 non-null   int64\n",
      " 20  TotalWorkingYears        1628 non-null   int64\n",
      " 21  TrainingTimesLastYear    1628 non-null   int64\n",
      " 22  YearsAtCompany           1628 non-null   int64\n",
      " 23  YearsInCurrentRole       1628 non-null   int64\n",
      " 24  YearsSinceLastPromotion  1628 non-null   int64\n",
      " 25  YearsWithCurrManager     1628 non-null   int64\n",
      " 26  CommunicationSkill       1628 non-null   int64\n",
      " 27  Behaviour                1628 non-null   int64\n",
      "dtypes: int32(7), int64(21)\n",
      "memory usage: 324.3 KB\n"
     ]
    }
   ],
   "source": [
    "from sklearn.preprocessing import LabelEncoder\n",
    "\n",
    "def train_cats(train_df, test_df):\n",
    "    for col in train_df.columns:\n",
    "        if train_df[col].dtype == 'O' :\n",
    "            le = LabelEncoder()\n",
    "            train_df[col] = le.fit_transform(train_df[col])\n",
    "            test_df[col] = le.transform(test_df[col])\n",
    "    return train_df, test_df\n",
    "            \n",
    "train, test = train_cats(train, test)\n",
    "train.info()"
   ]
  },
  {
   "cell_type": "code",
   "execution_count": 6,
   "metadata": {},
   "outputs": [
    {
     "data": {
      "text/plain": [
       "((1628, 27), (1628,), (470, 27))"
      ]
     },
     "execution_count": 6,
     "metadata": {},
     "output_type": "execute_result"
    }
   ],
   "source": [
    "X = train.drop(columns=\"Attrition\")\n",
    "y = train.Attrition\n",
    "X.shape, y.shape, test.shape"
   ]
  },
  {
   "cell_type": "code",
   "execution_count": 8,
   "metadata": {},
   "outputs": [],
   "source": [
    "from sklearn.ensemble import RandomForestClassifier\n",
    "from xgboost import XGBClassifier\n",
    "from lightgbm import LGBMClassifier\n",
    "from sklearn.model_selection import cross_val_score"
   ]
  },
  {
   "cell_type": "code",
   "execution_count": 9,
   "metadata": {},
   "outputs": [
    {
     "name": "stderr",
     "output_type": "stream",
     "text": [
      "[Parallel(n_jobs=-1)]: Using backend LokyBackend with 4 concurrent workers.\n",
      "[Parallel(n_jobs=-1)]: Done   5 out of   5 | elapsed:   28.8s finished\n"
     ]
    },
    {
     "data": {
      "text/plain": [
       "0.9944731897206174"
      ]
     },
     "execution_count": 9,
     "metadata": {},
     "output_type": "execute_result"
    }
   ],
   "source": [
    "rfc = RandomForestClassifier(n_estimators=500, n_jobs=-1, random_state=7, min_samples_leaf=5)\n",
    "cross_val_score(rfc, X, y, cv=5, n_jobs=-1, verbose=1, scoring='roc_auc').mean()"
   ]
  },
  {
   "cell_type": "markdown",
   "metadata": {},
   "source": [
    "# After deleting the duplicate data"
   ]
  },
  {
   "cell_type": "code",
   "execution_count": 10,
   "metadata": {},
   "outputs": [
    {
     "data": {
      "text/html": [
       "<div>\n",
       "<style scoped>\n",
       "    .dataframe tbody tr th:only-of-type {\n",
       "        vertical-align: middle;\n",
       "    }\n",
       "\n",
       "    .dataframe tbody tr th {\n",
       "        vertical-align: top;\n",
       "    }\n",
       "\n",
       "    .dataframe thead th {\n",
       "        text-align: right;\n",
       "    }\n",
       "</style>\n",
       "<table border=\"1\" class=\"dataframe\">\n",
       "  <thead>\n",
       "    <tr style=\"text-align: right;\">\n",
       "      <th></th>\n",
       "      <th>Age</th>\n",
       "      <th>Attrition</th>\n",
       "      <th>BusinessTravel</th>\n",
       "      <th>Department</th>\n",
       "      <th>DistanceFromHome</th>\n",
       "      <th>Education</th>\n",
       "      <th>EducationField</th>\n",
       "      <th>EmployeeNumber</th>\n",
       "      <th>EnvironmentSatisfaction</th>\n",
       "      <th>Gender</th>\n",
       "      <th>...</th>\n",
       "      <th>PerformanceRating</th>\n",
       "      <th>StockOptionLevel</th>\n",
       "      <th>TotalWorkingYears</th>\n",
       "      <th>TrainingTimesLastYear</th>\n",
       "      <th>YearsAtCompany</th>\n",
       "      <th>YearsInCurrentRole</th>\n",
       "      <th>YearsSinceLastPromotion</th>\n",
       "      <th>YearsWithCurrManager</th>\n",
       "      <th>CommunicationSkill</th>\n",
       "      <th>Behaviour</th>\n",
       "    </tr>\n",
       "    <tr>\n",
       "      <th>Id</th>\n",
       "      <th></th>\n",
       "      <th></th>\n",
       "      <th></th>\n",
       "      <th></th>\n",
       "      <th></th>\n",
       "      <th></th>\n",
       "      <th></th>\n",
       "      <th></th>\n",
       "      <th></th>\n",
       "      <th></th>\n",
       "      <th></th>\n",
       "      <th></th>\n",
       "      <th></th>\n",
       "      <th></th>\n",
       "      <th></th>\n",
       "      <th></th>\n",
       "      <th></th>\n",
       "      <th></th>\n",
       "      <th></th>\n",
       "      <th></th>\n",
       "      <th></th>\n",
       "    </tr>\n",
       "  </thead>\n",
       "  <tbody>\n",
       "    <tr>\n",
       "      <th>1</th>\n",
       "      <td>30</td>\n",
       "      <td>0</td>\n",
       "      <td>Non-Travel</td>\n",
       "      <td>Research &amp; Development</td>\n",
       "      <td>2</td>\n",
       "      <td>3</td>\n",
       "      <td>Medical</td>\n",
       "      <td>571</td>\n",
       "      <td>3</td>\n",
       "      <td>Female</td>\n",
       "      <td>...</td>\n",
       "      <td>3</td>\n",
       "      <td>0</td>\n",
       "      <td>12</td>\n",
       "      <td>2</td>\n",
       "      <td>11</td>\n",
       "      <td>7</td>\n",
       "      <td>6</td>\n",
       "      <td>7</td>\n",
       "      <td>4</td>\n",
       "      <td>1</td>\n",
       "    </tr>\n",
       "    <tr>\n",
       "      <th>2</th>\n",
       "      <td>36</td>\n",
       "      <td>0</td>\n",
       "      <td>Travel_Rarely</td>\n",
       "      <td>Research &amp; Development</td>\n",
       "      <td>12</td>\n",
       "      <td>4</td>\n",
       "      <td>Life Sciences</td>\n",
       "      <td>1614</td>\n",
       "      <td>3</td>\n",
       "      <td>Female</td>\n",
       "      <td>...</td>\n",
       "      <td>3</td>\n",
       "      <td>2</td>\n",
       "      <td>7</td>\n",
       "      <td>2</td>\n",
       "      <td>3</td>\n",
       "      <td>2</td>\n",
       "      <td>1</td>\n",
       "      <td>1</td>\n",
       "      <td>2</td>\n",
       "      <td>1</td>\n",
       "    </tr>\n",
       "    <tr>\n",
       "      <th>3</th>\n",
       "      <td>55</td>\n",
       "      <td>1</td>\n",
       "      <td>Travel_Rarely</td>\n",
       "      <td>Sales</td>\n",
       "      <td>2</td>\n",
       "      <td>1</td>\n",
       "      <td>Medical</td>\n",
       "      <td>842</td>\n",
       "      <td>3</td>\n",
       "      <td>Male</td>\n",
       "      <td>...</td>\n",
       "      <td>3</td>\n",
       "      <td>0</td>\n",
       "      <td>12</td>\n",
       "      <td>3</td>\n",
       "      <td>9</td>\n",
       "      <td>7</td>\n",
       "      <td>7</td>\n",
       "      <td>3</td>\n",
       "      <td>5</td>\n",
       "      <td>1</td>\n",
       "    </tr>\n",
       "    <tr>\n",
       "      <th>4</th>\n",
       "      <td>39</td>\n",
       "      <td>0</td>\n",
       "      <td>Travel_Rarely</td>\n",
       "      <td>Research &amp; Development</td>\n",
       "      <td>24</td>\n",
       "      <td>1</td>\n",
       "      <td>Life Sciences</td>\n",
       "      <td>2014</td>\n",
       "      <td>1</td>\n",
       "      <td>Male</td>\n",
       "      <td>...</td>\n",
       "      <td>3</td>\n",
       "      <td>0</td>\n",
       "      <td>18</td>\n",
       "      <td>2</td>\n",
       "      <td>7</td>\n",
       "      <td>7</td>\n",
       "      <td>1</td>\n",
       "      <td>7</td>\n",
       "      <td>4</td>\n",
       "      <td>1</td>\n",
       "    </tr>\n",
       "    <tr>\n",
       "      <th>5</th>\n",
       "      <td>37</td>\n",
       "      <td>0</td>\n",
       "      <td>Travel_Rarely</td>\n",
       "      <td>Research &amp; Development</td>\n",
       "      <td>3</td>\n",
       "      <td>3</td>\n",
       "      <td>Other</td>\n",
       "      <td>689</td>\n",
       "      <td>3</td>\n",
       "      <td>Male</td>\n",
       "      <td>...</td>\n",
       "      <td>3</td>\n",
       "      <td>1</td>\n",
       "      <td>10</td>\n",
       "      <td>2</td>\n",
       "      <td>10</td>\n",
       "      <td>7</td>\n",
       "      <td>7</td>\n",
       "      <td>8</td>\n",
       "      <td>1</td>\n",
       "      <td>1</td>\n",
       "    </tr>\n",
       "  </tbody>\n",
       "</table>\n",
       "<p>5 rows × 28 columns</p>\n",
       "</div>"
      ],
      "text/plain": [
       "    Age  Attrition BusinessTravel              Department  DistanceFromHome  \\\n",
       "Id                                                                            \n",
       "1    30          0     Non-Travel  Research & Development                 2   \n",
       "2    36          0  Travel_Rarely  Research & Development                12   \n",
       "3    55          1  Travel_Rarely                   Sales                 2   \n",
       "4    39          0  Travel_Rarely  Research & Development                24   \n",
       "5    37          0  Travel_Rarely  Research & Development                 3   \n",
       "\n",
       "    Education EducationField  EmployeeNumber  EnvironmentSatisfaction  Gender  \\\n",
       "Id                                                                              \n",
       "1           3        Medical             571                        3  Female   \n",
       "2           4  Life Sciences            1614                        3  Female   \n",
       "3           1        Medical             842                        3    Male   \n",
       "4           1  Life Sciences            2014                        1    Male   \n",
       "5           3          Other             689                        3    Male   \n",
       "\n",
       "    ...  PerformanceRating StockOptionLevel  TotalWorkingYears  \\\n",
       "Id  ...                                                          \n",
       "1   ...                  3                0                 12   \n",
       "2   ...                  3                2                  7   \n",
       "3   ...                  3                0                 12   \n",
       "4   ...                  3                0                 18   \n",
       "5   ...                  3                1                 10   \n",
       "\n",
       "   TrainingTimesLastYear  YearsAtCompany  YearsInCurrentRole  \\\n",
       "Id                                                             \n",
       "1                      2              11                   7   \n",
       "2                      2               3                   2   \n",
       "3                      3               9                   7   \n",
       "4                      2               7                   7   \n",
       "5                      2              10                   7   \n",
       "\n",
       "   YearsSinceLastPromotion  YearsWithCurrManager  CommunicationSkill  \\\n",
       "Id                                                                     \n",
       "1                        6                     7                   4   \n",
       "2                        1                     1                   2   \n",
       "3                        7                     3                   5   \n",
       "4                        1                     7                   4   \n",
       "5                        7                     8                   1   \n",
       "\n",
       "    Behaviour  \n",
       "Id             \n",
       "1           1  \n",
       "2           1  \n",
       "3           1  \n",
       "4           1  \n",
       "5           1  \n",
       "\n",
       "[5 rows x 28 columns]"
      ]
     },
     "execution_count": 10,
     "metadata": {},
     "output_type": "execute_result"
    }
   ],
   "source": [
    "train = pd.read_csv(\"train.csv\",index_col=\"Id\")\n",
    "test = pd.read_csv(\"test.csv\",index_col=\"Id\")\n",
    "train.head()"
   ]
  },
  {
   "cell_type": "code",
   "execution_count": 11,
   "metadata": {},
   "outputs": [
    {
     "name": "stdout",
     "output_type": "stream",
     "text": [
      "Number of duplicates in the training data are 628 of 1628, ie 38.57 % of data duplicated\n",
      "Number of duplicates in the testing data are 0 of 470, ie 0.0 % of data duplicated\n"
     ]
    }
   ],
   "source": [
    "print(f\"Number of duplicates in the training data are {train.duplicated().sum()} of {len(train)}, ie {(100* train.duplicated().sum()/len(train)).round(2)} % of data duplicated\")\n",
    "print(f\"Number of duplicates in the testing data are {test.duplicated().sum()} of {len(test)}, ie {(100* test.duplicated().sum()/len(test)).round(2)} % of data duplicated\")"
   ]
  },
  {
   "cell_type": "code",
   "execution_count": 12,
   "metadata": {},
   "outputs": [
    {
     "name": "stdout",
     "output_type": "stream",
     "text": [
      "Number of duplicates in the training data are 0 of 1000, ie 0.0 % of data duplicated\n"
     ]
    }
   ],
   "source": [
    "train.drop_duplicates(inplace=True)\n",
    "print(f\"Number of duplicates in the training data are {train.duplicated().sum()} of {len(train)}, ie {(100* train.duplicated().sum()/len(train)).round(2)} % of data duplicated\")"
   ]
  },
  {
   "cell_type": "code",
   "execution_count": 13,
   "metadata": {},
   "outputs": [
    {
     "name": "stdout",
     "output_type": "stream",
     "text": [
      "<class 'pandas.core.frame.DataFrame'>\n",
      "Int64Index: 1000 entries, 1 to 1000\n",
      "Data columns (total 28 columns):\n",
      " #   Column                   Non-Null Count  Dtype\n",
      "---  ------                   --------------  -----\n",
      " 0   Age                      1000 non-null   int64\n",
      " 1   Attrition                1000 non-null   int64\n",
      " 2   BusinessTravel           1000 non-null   int32\n",
      " 3   Department               1000 non-null   int32\n",
      " 4   DistanceFromHome         1000 non-null   int64\n",
      " 5   Education                1000 non-null   int64\n",
      " 6   EducationField           1000 non-null   int32\n",
      " 7   EmployeeNumber           1000 non-null   int64\n",
      " 8   EnvironmentSatisfaction  1000 non-null   int64\n",
      " 9   Gender                   1000 non-null   int32\n",
      " 10  JobInvolvement           1000 non-null   int64\n",
      " 11  JobRole                  1000 non-null   int32\n",
      " 12  JobSatisfaction          1000 non-null   int64\n",
      " 13  MaritalStatus            1000 non-null   int32\n",
      " 14  MonthlyIncome            1000 non-null   int64\n",
      " 15  NumCompaniesWorked       1000 non-null   int64\n",
      " 16  OverTime                 1000 non-null   int32\n",
      " 17  PercentSalaryHike        1000 non-null   int64\n",
      " 18  PerformanceRating        1000 non-null   int64\n",
      " 19  StockOptionLevel         1000 non-null   int64\n",
      " 20  TotalWorkingYears        1000 non-null   int64\n",
      " 21  TrainingTimesLastYear    1000 non-null   int64\n",
      " 22  YearsAtCompany           1000 non-null   int64\n",
      " 23  YearsInCurrentRole       1000 non-null   int64\n",
      " 24  YearsSinceLastPromotion  1000 non-null   int64\n",
      " 25  YearsWithCurrManager     1000 non-null   int64\n",
      " 26  CommunicationSkill       1000 non-null   int64\n",
      " 27  Behaviour                1000 non-null   int64\n",
      "dtypes: int32(7), int64(21)\n",
      "memory usage: 199.2 KB\n"
     ]
    }
   ],
   "source": [
    "from sklearn.preprocessing import LabelEncoder\n",
    "\n",
    "def train_cats(train_df, test_df):\n",
    "    for col in train_df.columns:\n",
    "        if train_df[col].dtype == 'O' :\n",
    "            le = LabelEncoder()\n",
    "            train_df[col] = le.fit_transform(train_df[col])\n",
    "            test_df[col] = le.transform(test_df[col])\n",
    "    return train_df, test_df\n",
    "            \n",
    "train, test = train_cats(train, test)\n",
    "train.info()"
   ]
  },
  {
   "cell_type": "code",
   "execution_count": 14,
   "metadata": {},
   "outputs": [
    {
     "data": {
      "text/plain": [
       "((1000, 27), (1000,), (470, 27))"
      ]
     },
     "execution_count": 14,
     "metadata": {},
     "output_type": "execute_result"
    }
   ],
   "source": [
    "X = train.drop(columns=\"Attrition\")\n",
    "y = train.Attrition\n",
    "X.shape, y.shape, test.shape"
   ]
  },
  {
   "cell_type": "code",
   "execution_count": 15,
   "metadata": {},
   "outputs": [
    {
     "name": "stderr",
     "output_type": "stream",
     "text": [
      "[Parallel(n_jobs=-1)]: Using backend LokyBackend with 4 concurrent workers.\n",
      "[Parallel(n_jobs=-1)]: Done   5 out of   5 | elapsed:    9.5s finished\n"
     ]
    },
    {
     "data": {
      "text/plain": [
       "0.8088344328593244"
      ]
     },
     "execution_count": 15,
     "metadata": {},
     "output_type": "execute_result"
    }
   ],
   "source": [
    "rfc = RandomForestClassifier(n_estimators=500, n_jobs=-1, random_state=7, min_samples_leaf=5)\n",
    "cross_val_score(rfc, X, y, cv=5, n_jobs=-1, verbose=1, scoring='roc_auc').mean()"
   ]
  },
  {
   "cell_type": "code",
   "execution_count": 16,
   "metadata": {},
   "outputs": [
    {
     "name": "stderr",
     "output_type": "stream",
     "text": [
      "[Parallel(n_jobs=-1)]: Using backend LokyBackend with 4 concurrent workers.\n",
      "[Parallel(n_jobs=-1)]: Done   5 out of   5 | elapsed:    0.8s finished\n"
     ]
    },
    {
     "data": {
      "text/plain": [
       "0.8472831184272716"
      ]
     },
     "execution_count": 16,
     "metadata": {},
     "output_type": "execute_result"
    }
   ],
   "source": [
    "lgbmc = LGBMClassifier(random_state=7, n_estimators=100, colsample_bytree=0.5, \n",
    "                       max_depth=2, learning_rate=0.1, boosting_type='gbdt')\n",
    "cross_val_score(lgbmc, X, y, cv=5, n_jobs=-1, verbose=1, scoring='roc_auc').mean()"
   ]
  },
  {
   "cell_type": "code",
   "execution_count": 17,
   "metadata": {},
   "outputs": [
    {
     "name": "stderr",
     "output_type": "stream",
     "text": [
      "[Parallel(n_jobs=-1)]: Using backend LokyBackend with 4 concurrent workers.\n",
      "[Parallel(n_jobs=-1)]: Done   5 out of   5 | elapsed:   16.3s finished\n"
     ]
    },
    {
     "data": {
      "text/plain": [
       "0.8239855658454449"
      ]
     },
     "execution_count": 17,
     "metadata": {},
     "output_type": "execute_result"
    }
   ],
   "source": [
    "xgbc = XGBClassifier(seed=7, n_jobs=-1, n_estimators=100, random_state=7, max_depth=2, learning_rate=0.1)\n",
    "cross_val_score(xgbc, X, y, cv=5, n_jobs=-1, verbose=1, scoring='roc_auc').mean()"
   ]
  },
  {
   "cell_type": "code",
   "execution_count": 18,
   "metadata": {},
   "outputs": [
    {
     "name": "stderr",
     "output_type": "stream",
     "text": [
      "[Parallel(n_jobs=-1)]: Using backend LokyBackend with 4 concurrent workers.\n",
      "[Parallel(n_jobs=-1)]: Done   5 out of   5 | elapsed:    6.8s finished\n"
     ]
    },
    {
     "data": {
      "text/plain": [
       "0.8366268979676239"
      ]
     },
     "execution_count": 18,
     "metadata": {},
     "output_type": "execute_result"
    }
   ],
   "source": [
    "from sklearn.ensemble import VotingClassifier\n",
    "ensemble = VotingClassifier(estimators=[('rfc', rfc), ('xgbc', xgbc), ('lgbmc', lgbmc)],\n",
    "                                         voting='soft', n_jobs=-1)\n",
    "cross_val_score(ensemble, X, y, cv=5, n_jobs=-1, verbose=1, scoring='roc_auc').mean()"
   ]
  },
  {
   "cell_type": "code",
   "execution_count": 19,
   "metadata": {},
   "outputs": [],
   "source": [
    "ensemble.fit(X, y)\n",
    "y_pred = ensemble.predict_proba(test)[:, 1]\n",
    "sub_df = pd.DataFrame({\"Id\":test.index, \"Attrition\": y_pred})\n",
    "sub_df.to_csv(\"submission.csv\", index=False)"
   ]
  },
  {
   "cell_type": "code",
   "execution_count": null,
   "metadata": {},
   "outputs": [],
   "source": []
  }
 ],
 "metadata": {
  "kernelspec": {
   "display_name": "Python 3",
   "language": "python",
   "name": "python3"
  },
  "language_info": {
   "codemirror_mode": {
    "name": "ipython",
    "version": 3
   },
   "file_extension": ".py",
   "mimetype": "text/x-python",
   "name": "python",
   "nbconvert_exporter": "python",
   "pygments_lexer": "ipython3",
   "version": "3.7.6"
  }
 },
 "nbformat": 4,
 "nbformat_minor": 4
}
